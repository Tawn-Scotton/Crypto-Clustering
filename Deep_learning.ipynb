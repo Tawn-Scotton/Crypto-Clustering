{
  "cells": [
    {
      "cell_type": "markdown",
      "metadata": {
        "id": "view-in-github",
        "colab_type": "text"
      },
      "source": [
        "<a href=\"https://colab.research.google.com/github/Tawn-Scotton/Crypto-Clustering/blob/main/Deep_learning.ipynb\" target=\"_parent\"><img src=\"https://colab.research.google.com/assets/colab-badge.svg\" alt=\"Open In Colab\"/></a>"
      ]
    },
    {
      "cell_type": "code",
      "execution_count": 1,
      "metadata": {
        "colab": {
          "base_uri": "https://localhost:8080/",
          "height": 206
        },
        "id": "Uah2FxfLFGkv",
        "outputId": "a3ec5605-2759-4844-a72f-6df0bfa54f01"
      },
      "outputs": [
        {
          "output_type": "execute_result",
          "data": {
            "text/plain": [
              "        EIN                                      NAME APPLICATION_TYPE  \\\n",
              "0  10520599              BLUE KNIGHTS MOTORCYCLE CLUB              T10   \n",
              "1  10531628    AMERICAN CHESAPEAKE CLUB CHARITABLE TR               T3   \n",
              "2  10547893        ST CLOUD PROFESSIONAL FIREFIGHTERS               T5   \n",
              "3  10553066            SOUTHSIDE ATHLETIC ASSOCIATION               T3   \n",
              "4  10556103  GENETIC RESEARCH INSTITUTE OF THE DESERT               T3   \n",
              "\n",
              "        AFFILIATION CLASSIFICATION      USE_CASE  ORGANIZATION  STATUS  \\\n",
              "0       Independent          C1000    ProductDev   Association       1   \n",
              "1       Independent          C2000  Preservation  Co-operative       1   \n",
              "2  CompanySponsored          C3000    ProductDev   Association       1   \n",
              "3  CompanySponsored          C2000  Preservation         Trust       1   \n",
              "4       Independent          C1000     Heathcare         Trust       1   \n",
              "\n",
              "      INCOME_AMT SPECIAL_CONSIDERATIONS  ASK_AMT  IS_SUCCESSFUL  \n",
              "0              0                      N     5000              1  \n",
              "1         1-9999                      N   108590              1  \n",
              "2              0                      N     5000              0  \n",
              "3    10000-24999                      N     6692              1  \n",
              "4  100000-499999                      N   142590              1  "
            ],
            "text/html": [
              "\n",
              "  <div id=\"df-9223d6b5-6deb-4d27-9922-81c74c3ff60f\">\n",
              "    <div class=\"colab-df-container\">\n",
              "      <div>\n",
              "<style scoped>\n",
              "    .dataframe tbody tr th:only-of-type {\n",
              "        vertical-align: middle;\n",
              "    }\n",
              "\n",
              "    .dataframe tbody tr th {\n",
              "        vertical-align: top;\n",
              "    }\n",
              "\n",
              "    .dataframe thead th {\n",
              "        text-align: right;\n",
              "    }\n",
              "</style>\n",
              "<table border=\"1\" class=\"dataframe\">\n",
              "  <thead>\n",
              "    <tr style=\"text-align: right;\">\n",
              "      <th></th>\n",
              "      <th>EIN</th>\n",
              "      <th>NAME</th>\n",
              "      <th>APPLICATION_TYPE</th>\n",
              "      <th>AFFILIATION</th>\n",
              "      <th>CLASSIFICATION</th>\n",
              "      <th>USE_CASE</th>\n",
              "      <th>ORGANIZATION</th>\n",
              "      <th>STATUS</th>\n",
              "      <th>INCOME_AMT</th>\n",
              "      <th>SPECIAL_CONSIDERATIONS</th>\n",
              "      <th>ASK_AMT</th>\n",
              "      <th>IS_SUCCESSFUL</th>\n",
              "    </tr>\n",
              "  </thead>\n",
              "  <tbody>\n",
              "    <tr>\n",
              "      <th>0</th>\n",
              "      <td>10520599</td>\n",
              "      <td>BLUE KNIGHTS MOTORCYCLE CLUB</td>\n",
              "      <td>T10</td>\n",
              "      <td>Independent</td>\n",
              "      <td>C1000</td>\n",
              "      <td>ProductDev</td>\n",
              "      <td>Association</td>\n",
              "      <td>1</td>\n",
              "      <td>0</td>\n",
              "      <td>N</td>\n",
              "      <td>5000</td>\n",
              "      <td>1</td>\n",
              "    </tr>\n",
              "    <tr>\n",
              "      <th>1</th>\n",
              "      <td>10531628</td>\n",
              "      <td>AMERICAN CHESAPEAKE CLUB CHARITABLE TR</td>\n",
              "      <td>T3</td>\n",
              "      <td>Independent</td>\n",
              "      <td>C2000</td>\n",
              "      <td>Preservation</td>\n",
              "      <td>Co-operative</td>\n",
              "      <td>1</td>\n",
              "      <td>1-9999</td>\n",
              "      <td>N</td>\n",
              "      <td>108590</td>\n",
              "      <td>1</td>\n",
              "    </tr>\n",
              "    <tr>\n",
              "      <th>2</th>\n",
              "      <td>10547893</td>\n",
              "      <td>ST CLOUD PROFESSIONAL FIREFIGHTERS</td>\n",
              "      <td>T5</td>\n",
              "      <td>CompanySponsored</td>\n",
              "      <td>C3000</td>\n",
              "      <td>ProductDev</td>\n",
              "      <td>Association</td>\n",
              "      <td>1</td>\n",
              "      <td>0</td>\n",
              "      <td>N</td>\n",
              "      <td>5000</td>\n",
              "      <td>0</td>\n",
              "    </tr>\n",
              "    <tr>\n",
              "      <th>3</th>\n",
              "      <td>10553066</td>\n",
              "      <td>SOUTHSIDE ATHLETIC ASSOCIATION</td>\n",
              "      <td>T3</td>\n",
              "      <td>CompanySponsored</td>\n",
              "      <td>C2000</td>\n",
              "      <td>Preservation</td>\n",
              "      <td>Trust</td>\n",
              "      <td>1</td>\n",
              "      <td>10000-24999</td>\n",
              "      <td>N</td>\n",
              "      <td>6692</td>\n",
              "      <td>1</td>\n",
              "    </tr>\n",
              "    <tr>\n",
              "      <th>4</th>\n",
              "      <td>10556103</td>\n",
              "      <td>GENETIC RESEARCH INSTITUTE OF THE DESERT</td>\n",
              "      <td>T3</td>\n",
              "      <td>Independent</td>\n",
              "      <td>C1000</td>\n",
              "      <td>Heathcare</td>\n",
              "      <td>Trust</td>\n",
              "      <td>1</td>\n",
              "      <td>100000-499999</td>\n",
              "      <td>N</td>\n",
              "      <td>142590</td>\n",
              "      <td>1</td>\n",
              "    </tr>\n",
              "  </tbody>\n",
              "</table>\n",
              "</div>\n",
              "      <button class=\"colab-df-convert\" onclick=\"convertToInteractive('df-9223d6b5-6deb-4d27-9922-81c74c3ff60f')\"\n",
              "              title=\"Convert this dataframe to an interactive table.\"\n",
              "              style=\"display:none;\">\n",
              "        \n",
              "  <svg xmlns=\"http://www.w3.org/2000/svg\" height=\"24px\"viewBox=\"0 0 24 24\"\n",
              "       width=\"24px\">\n",
              "    <path d=\"M0 0h24v24H0V0z\" fill=\"none\"/>\n",
              "    <path d=\"M18.56 5.44l.94 2.06.94-2.06 2.06-.94-2.06-.94-.94-2.06-.94 2.06-2.06.94zm-11 1L8.5 8.5l.94-2.06 2.06-.94-2.06-.94L8.5 2.5l-.94 2.06-2.06.94zm10 10l.94 2.06.94-2.06 2.06-.94-2.06-.94-.94-2.06-.94 2.06-2.06.94z\"/><path d=\"M17.41 7.96l-1.37-1.37c-.4-.4-.92-.59-1.43-.59-.52 0-1.04.2-1.43.59L10.3 9.45l-7.72 7.72c-.78.78-.78 2.05 0 2.83L4 21.41c.39.39.9.59 1.41.59.51 0 1.02-.2 1.41-.59l7.78-7.78 2.81-2.81c.8-.78.8-2.07 0-2.86zM5.41 20L4 18.59l7.72-7.72 1.47 1.35L5.41 20z\"/>\n",
              "  </svg>\n",
              "      </button>\n",
              "      \n",
              "  <style>\n",
              "    .colab-df-container {\n",
              "      display:flex;\n",
              "      flex-wrap:wrap;\n",
              "      gap: 12px;\n",
              "    }\n",
              "\n",
              "    .colab-df-convert {\n",
              "      background-color: #E8F0FE;\n",
              "      border: none;\n",
              "      border-radius: 50%;\n",
              "      cursor: pointer;\n",
              "      display: none;\n",
              "      fill: #1967D2;\n",
              "      height: 32px;\n",
              "      padding: 0 0 0 0;\n",
              "      width: 32px;\n",
              "    }\n",
              "\n",
              "    .colab-df-convert:hover {\n",
              "      background-color: #E2EBFA;\n",
              "      box-shadow: 0px 1px 2px rgba(60, 64, 67, 0.3), 0px 1px 3px 1px rgba(60, 64, 67, 0.15);\n",
              "      fill: #174EA6;\n",
              "    }\n",
              "\n",
              "    [theme=dark] .colab-df-convert {\n",
              "      background-color: #3B4455;\n",
              "      fill: #D2E3FC;\n",
              "    }\n",
              "\n",
              "    [theme=dark] .colab-df-convert:hover {\n",
              "      background-color: #434B5C;\n",
              "      box-shadow: 0px 1px 3px 1px rgba(0, 0, 0, 0.15);\n",
              "      filter: drop-shadow(0px 1px 2px rgba(0, 0, 0, 0.3));\n",
              "      fill: #FFFFFF;\n",
              "    }\n",
              "  </style>\n",
              "\n",
              "      <script>\n",
              "        const buttonEl =\n",
              "          document.querySelector('#df-9223d6b5-6deb-4d27-9922-81c74c3ff60f button.colab-df-convert');\n",
              "        buttonEl.style.display =\n",
              "          google.colab.kernel.accessAllowed ? 'block' : 'none';\n",
              "\n",
              "        async function convertToInteractive(key) {\n",
              "          const element = document.querySelector('#df-9223d6b5-6deb-4d27-9922-81c74c3ff60f');\n",
              "          const dataTable =\n",
              "            await google.colab.kernel.invokeFunction('convertToInteractive',\n",
              "                                                     [key], {});\n",
              "          if (!dataTable) return;\n",
              "\n",
              "          const docLinkHtml = 'Like what you see? Visit the ' +\n",
              "            '<a target=\"_blank\" href=https://colab.research.google.com/notebooks/data_table.ipynb>data table notebook</a>'\n",
              "            + ' to learn more about interactive tables.';\n",
              "          element.innerHTML = '';\n",
              "          dataTable['output_type'] = 'display_data';\n",
              "          await google.colab.output.renderOutput(dataTable, element);\n",
              "          const docLink = document.createElement('div');\n",
              "          docLink.innerHTML = docLinkHtml;\n",
              "          element.appendChild(docLink);\n",
              "        }\n",
              "      </script>\n",
              "    </div>\n",
              "  </div>\n",
              "  "
            ]
          },
          "metadata": {},
          "execution_count": 1
        }
      ],
      "source": [
        "# Import our dependencies\n",
        "from sklearn.model_selection import train_test_split\n",
        "from sklearn.preprocessing import StandardScaler\n",
        "import pandas as pd\n",
        "import tensorflow as tf\n",
        "\n",
        "#  Import and read the charity_data.csv.\n",
        "import pandas as pd\n",
        "application_df = pd.read_csv(\"https://static.bc-edx.com/data/dl-1-2/m21/lms/starter/charity_data.csv\")\n",
        "application_df.head()"
      ]
    },
    {
      "cell_type": "code",
      "source": [
        "#Define the target variables and features\n",
        "target=application_df['IS_SUCCESSFUL']\n",
        "features = application_df.drop(['EIN','NAME', 'IS_SUCCESSFUL'], axis=1)"
      ],
      "metadata": {
        "id": "v1f0Km14PHT1"
      },
      "execution_count": 2,
      "outputs": []
    },
    {
      "cell_type": "markdown",
      "metadata": {
        "id": "-M0FcWJlFGks"
      },
      "source": [
        "## Preprocessing"
      ]
    },
    {
      "cell_type": "code",
      "execution_count": 3,
      "metadata": {
        "colab": {
          "base_uri": "https://localhost:8080/"
        },
        "id": "II4L-wxkLXuX",
        "outputId": "ddeba2f7-e6b5-46b6-e3c6-81caa65790c0"
      },
      "outputs": [
        {
          "output_type": "execute_result",
          "data": {
            "text/plain": [
              "EIN                       0\n",
              "NAME                      0\n",
              "APPLICATION_TYPE          0\n",
              "AFFILIATION               0\n",
              "CLASSIFICATION            0\n",
              "USE_CASE                  0\n",
              "ORGANIZATION              0\n",
              "STATUS                    0\n",
              "INCOME_AMT                0\n",
              "SPECIAL_CONSIDERATIONS    0\n",
              "ASK_AMT                   0\n",
              "IS_SUCCESSFUL             0\n",
              "dtype: int64"
            ]
          },
          "metadata": {},
          "execution_count": 3
        }
      ],
      "source": [
        "#Checking application__df for null/na values\n",
        "application_df.isnull().sum()"
      ]
    },
    {
      "cell_type": "code",
      "execution_count": null,
      "metadata": {
        "id": "XHl9IZHkPNK0"
      },
      "outputs": [],
      "source": []
    },
    {
      "cell_type": "code",
      "execution_count": 4,
      "metadata": {
        "colab": {
          "base_uri": "https://localhost:8080/",
          "height": 424
        },
        "id": "nqqx88XSFGky",
        "outputId": "952a5043-3ac5-4be7-ca8c-b4725326d7ba"
      },
      "outputs": [
        {
          "output_type": "execute_result",
          "data": {
            "text/plain": [
              "      APPLICATION_TYPE       AFFILIATION CLASSIFICATION      USE_CASE  \\\n",
              "0                  T10       Independent          C1000    ProductDev   \n",
              "1                   T3       Independent          C2000  Preservation   \n",
              "2                   T5  CompanySponsored          C3000    ProductDev   \n",
              "3                   T3  CompanySponsored          C2000  Preservation   \n",
              "4                   T3       Independent          C1000     Heathcare   \n",
              "...                ...               ...            ...           ...   \n",
              "34294               T4       Independent          C1000    ProductDev   \n",
              "34295               T4  CompanySponsored          C3000    ProductDev   \n",
              "34296               T3  CompanySponsored          C2000  Preservation   \n",
              "34297               T5       Independent          C3000    ProductDev   \n",
              "34298               T3       Independent          C1000  Preservation   \n",
              "\n",
              "       ORGANIZATION  STATUS     INCOME_AMT SPECIAL_CONSIDERATIONS   ASK_AMT  \\\n",
              "0       Association       1              0                      N      5000   \n",
              "1      Co-operative       1         1-9999                      N    108590   \n",
              "2       Association       1              0                      N      5000   \n",
              "3             Trust       1    10000-24999                      N      6692   \n",
              "4             Trust       1  100000-499999                      N    142590   \n",
              "...             ...     ...            ...                    ...       ...   \n",
              "34294   Association       1              0                      N      5000   \n",
              "34295   Association       1              0                      N      5000   \n",
              "34296   Association       1              0                      N      5000   \n",
              "34297   Association       1              0                      N      5000   \n",
              "34298  Co-operative       1          1M-5M                      N  36500179   \n",
              "\n",
              "       IS_SUCCESSFUL  \n",
              "0                  1  \n",
              "1                  1  \n",
              "2                  0  \n",
              "3                  1  \n",
              "4                  1  \n",
              "...              ...  \n",
              "34294              0  \n",
              "34295              0  \n",
              "34296              0  \n",
              "34297              1  \n",
              "34298              0  \n",
              "\n",
              "[34299 rows x 10 columns]"
            ],
            "text/html": [
              "\n",
              "  <div id=\"df-f583c899-e800-4e42-bf8b-cabfba453efc\">\n",
              "    <div class=\"colab-df-container\">\n",
              "      <div>\n",
              "<style scoped>\n",
              "    .dataframe tbody tr th:only-of-type {\n",
              "        vertical-align: middle;\n",
              "    }\n",
              "\n",
              "    .dataframe tbody tr th {\n",
              "        vertical-align: top;\n",
              "    }\n",
              "\n",
              "    .dataframe thead th {\n",
              "        text-align: right;\n",
              "    }\n",
              "</style>\n",
              "<table border=\"1\" class=\"dataframe\">\n",
              "  <thead>\n",
              "    <tr style=\"text-align: right;\">\n",
              "      <th></th>\n",
              "      <th>APPLICATION_TYPE</th>\n",
              "      <th>AFFILIATION</th>\n",
              "      <th>CLASSIFICATION</th>\n",
              "      <th>USE_CASE</th>\n",
              "      <th>ORGANIZATION</th>\n",
              "      <th>STATUS</th>\n",
              "      <th>INCOME_AMT</th>\n",
              "      <th>SPECIAL_CONSIDERATIONS</th>\n",
              "      <th>ASK_AMT</th>\n",
              "      <th>IS_SUCCESSFUL</th>\n",
              "    </tr>\n",
              "  </thead>\n",
              "  <tbody>\n",
              "    <tr>\n",
              "      <th>0</th>\n",
              "      <td>T10</td>\n",
              "      <td>Independent</td>\n",
              "      <td>C1000</td>\n",
              "      <td>ProductDev</td>\n",
              "      <td>Association</td>\n",
              "      <td>1</td>\n",
              "      <td>0</td>\n",
              "      <td>N</td>\n",
              "      <td>5000</td>\n",
              "      <td>1</td>\n",
              "    </tr>\n",
              "    <tr>\n",
              "      <th>1</th>\n",
              "      <td>T3</td>\n",
              "      <td>Independent</td>\n",
              "      <td>C2000</td>\n",
              "      <td>Preservation</td>\n",
              "      <td>Co-operative</td>\n",
              "      <td>1</td>\n",
              "      <td>1-9999</td>\n",
              "      <td>N</td>\n",
              "      <td>108590</td>\n",
              "      <td>1</td>\n",
              "    </tr>\n",
              "    <tr>\n",
              "      <th>2</th>\n",
              "      <td>T5</td>\n",
              "      <td>CompanySponsored</td>\n",
              "      <td>C3000</td>\n",
              "      <td>ProductDev</td>\n",
              "      <td>Association</td>\n",
              "      <td>1</td>\n",
              "      <td>0</td>\n",
              "      <td>N</td>\n",
              "      <td>5000</td>\n",
              "      <td>0</td>\n",
              "    </tr>\n",
              "    <tr>\n",
              "      <th>3</th>\n",
              "      <td>T3</td>\n",
              "      <td>CompanySponsored</td>\n",
              "      <td>C2000</td>\n",
              "      <td>Preservation</td>\n",
              "      <td>Trust</td>\n",
              "      <td>1</td>\n",
              "      <td>10000-24999</td>\n",
              "      <td>N</td>\n",
              "      <td>6692</td>\n",
              "      <td>1</td>\n",
              "    </tr>\n",
              "    <tr>\n",
              "      <th>4</th>\n",
              "      <td>T3</td>\n",
              "      <td>Independent</td>\n",
              "      <td>C1000</td>\n",
              "      <td>Heathcare</td>\n",
              "      <td>Trust</td>\n",
              "      <td>1</td>\n",
              "      <td>100000-499999</td>\n",
              "      <td>N</td>\n",
              "      <td>142590</td>\n",
              "      <td>1</td>\n",
              "    </tr>\n",
              "    <tr>\n",
              "      <th>...</th>\n",
              "      <td>...</td>\n",
              "      <td>...</td>\n",
              "      <td>...</td>\n",
              "      <td>...</td>\n",
              "      <td>...</td>\n",
              "      <td>...</td>\n",
              "      <td>...</td>\n",
              "      <td>...</td>\n",
              "      <td>...</td>\n",
              "      <td>...</td>\n",
              "    </tr>\n",
              "    <tr>\n",
              "      <th>34294</th>\n",
              "      <td>T4</td>\n",
              "      <td>Independent</td>\n",
              "      <td>C1000</td>\n",
              "      <td>ProductDev</td>\n",
              "      <td>Association</td>\n",
              "      <td>1</td>\n",
              "      <td>0</td>\n",
              "      <td>N</td>\n",
              "      <td>5000</td>\n",
              "      <td>0</td>\n",
              "    </tr>\n",
              "    <tr>\n",
              "      <th>34295</th>\n",
              "      <td>T4</td>\n",
              "      <td>CompanySponsored</td>\n",
              "      <td>C3000</td>\n",
              "      <td>ProductDev</td>\n",
              "      <td>Association</td>\n",
              "      <td>1</td>\n",
              "      <td>0</td>\n",
              "      <td>N</td>\n",
              "      <td>5000</td>\n",
              "      <td>0</td>\n",
              "    </tr>\n",
              "    <tr>\n",
              "      <th>34296</th>\n",
              "      <td>T3</td>\n",
              "      <td>CompanySponsored</td>\n",
              "      <td>C2000</td>\n",
              "      <td>Preservation</td>\n",
              "      <td>Association</td>\n",
              "      <td>1</td>\n",
              "      <td>0</td>\n",
              "      <td>N</td>\n",
              "      <td>5000</td>\n",
              "      <td>0</td>\n",
              "    </tr>\n",
              "    <tr>\n",
              "      <th>34297</th>\n",
              "      <td>T5</td>\n",
              "      <td>Independent</td>\n",
              "      <td>C3000</td>\n",
              "      <td>ProductDev</td>\n",
              "      <td>Association</td>\n",
              "      <td>1</td>\n",
              "      <td>0</td>\n",
              "      <td>N</td>\n",
              "      <td>5000</td>\n",
              "      <td>1</td>\n",
              "    </tr>\n",
              "    <tr>\n",
              "      <th>34298</th>\n",
              "      <td>T3</td>\n",
              "      <td>Independent</td>\n",
              "      <td>C1000</td>\n",
              "      <td>Preservation</td>\n",
              "      <td>Co-operative</td>\n",
              "      <td>1</td>\n",
              "      <td>1M-5M</td>\n",
              "      <td>N</td>\n",
              "      <td>36500179</td>\n",
              "      <td>0</td>\n",
              "    </tr>\n",
              "  </tbody>\n",
              "</table>\n",
              "<p>34299 rows × 10 columns</p>\n",
              "</div>\n",
              "      <button class=\"colab-df-convert\" onclick=\"convertToInteractive('df-f583c899-e800-4e42-bf8b-cabfba453efc')\"\n",
              "              title=\"Convert this dataframe to an interactive table.\"\n",
              "              style=\"display:none;\">\n",
              "        \n",
              "  <svg xmlns=\"http://www.w3.org/2000/svg\" height=\"24px\"viewBox=\"0 0 24 24\"\n",
              "       width=\"24px\">\n",
              "    <path d=\"M0 0h24v24H0V0z\" fill=\"none\"/>\n",
              "    <path d=\"M18.56 5.44l.94 2.06.94-2.06 2.06-.94-2.06-.94-.94-2.06-.94 2.06-2.06.94zm-11 1L8.5 8.5l.94-2.06 2.06-.94-2.06-.94L8.5 2.5l-.94 2.06-2.06.94zm10 10l.94 2.06.94-2.06 2.06-.94-2.06-.94-.94-2.06-.94 2.06-2.06.94z\"/><path d=\"M17.41 7.96l-1.37-1.37c-.4-.4-.92-.59-1.43-.59-.52 0-1.04.2-1.43.59L10.3 9.45l-7.72 7.72c-.78.78-.78 2.05 0 2.83L4 21.41c.39.39.9.59 1.41.59.51 0 1.02-.2 1.41-.59l7.78-7.78 2.81-2.81c.8-.78.8-2.07 0-2.86zM5.41 20L4 18.59l7.72-7.72 1.47 1.35L5.41 20z\"/>\n",
              "  </svg>\n",
              "      </button>\n",
              "      \n",
              "  <style>\n",
              "    .colab-df-container {\n",
              "      display:flex;\n",
              "      flex-wrap:wrap;\n",
              "      gap: 12px;\n",
              "    }\n",
              "\n",
              "    .colab-df-convert {\n",
              "      background-color: #E8F0FE;\n",
              "      border: none;\n",
              "      border-radius: 50%;\n",
              "      cursor: pointer;\n",
              "      display: none;\n",
              "      fill: #1967D2;\n",
              "      height: 32px;\n",
              "      padding: 0 0 0 0;\n",
              "      width: 32px;\n",
              "    }\n",
              "\n",
              "    .colab-df-convert:hover {\n",
              "      background-color: #E2EBFA;\n",
              "      box-shadow: 0px 1px 2px rgba(60, 64, 67, 0.3), 0px 1px 3px 1px rgba(60, 64, 67, 0.15);\n",
              "      fill: #174EA6;\n",
              "    }\n",
              "\n",
              "    [theme=dark] .colab-df-convert {\n",
              "      background-color: #3B4455;\n",
              "      fill: #D2E3FC;\n",
              "    }\n",
              "\n",
              "    [theme=dark] .colab-df-convert:hover {\n",
              "      background-color: #434B5C;\n",
              "      box-shadow: 0px 1px 3px 1px rgba(0, 0, 0, 0.15);\n",
              "      filter: drop-shadow(0px 1px 2px rgba(0, 0, 0, 0.3));\n",
              "      fill: #FFFFFF;\n",
              "    }\n",
              "  </style>\n",
              "\n",
              "      <script>\n",
              "        const buttonEl =\n",
              "          document.querySelector('#df-f583c899-e800-4e42-bf8b-cabfba453efc button.colab-df-convert');\n",
              "        buttonEl.style.display =\n",
              "          google.colab.kernel.accessAllowed ? 'block' : 'none';\n",
              "\n",
              "        async function convertToInteractive(key) {\n",
              "          const element = document.querySelector('#df-f583c899-e800-4e42-bf8b-cabfba453efc');\n",
              "          const dataTable =\n",
              "            await google.colab.kernel.invokeFunction('convertToInteractive',\n",
              "                                                     [key], {});\n",
              "          if (!dataTable) return;\n",
              "\n",
              "          const docLinkHtml = 'Like what you see? Visit the ' +\n",
              "            '<a target=\"_blank\" href=https://colab.research.google.com/notebooks/data_table.ipynb>data table notebook</a>'\n",
              "            + ' to learn more about interactive tables.';\n",
              "          element.innerHTML = '';\n",
              "          dataTable['output_type'] = 'display_data';\n",
              "          await google.colab.output.renderOutput(dataTable, element);\n",
              "          const docLink = document.createElement('div');\n",
              "          docLink.innerHTML = docLinkHtml;\n",
              "          element.appendChild(docLink);\n",
              "        }\n",
              "      </script>\n",
              "    </div>\n",
              "  </div>\n",
              "  "
            ]
          },
          "metadata": {},
          "execution_count": 4
        }
      ],
      "source": [
        "# Drop the non-beneficial ID columns, 'EIN' and 'NAME'.\n",
        "application_df = application_df.drop(['EIN', 'NAME'],axis=1)\n",
        "application_df"
      ]
    },
    {
      "cell_type": "code",
      "execution_count": 5,
      "metadata": {
        "colab": {
          "base_uri": "https://localhost:8080/"
        },
        "id": "jSOzQWJGFGky",
        "outputId": "0f36334d-1fab-45fc-835d-05cecfb6e74e"
      },
      "outputs": [
        {
          "output_type": "stream",
          "name": "stdout",
          "text": [
            "APPLICATION_TYPE 17\n",
            "AFFILIATION 6\n",
            "CLASSIFICATION 71\n",
            "USE_CASE 5\n",
            "ORGANIZATION 4\n",
            "STATUS 2\n",
            "INCOME_AMT 9\n",
            "SPECIAL_CONSIDERATIONS 2\n",
            "ASK_AMT 8747\n",
            "IS_SUCCESSFUL 2\n"
          ]
        }
      ],
      "source": [
        "from IPython.core import application\n",
        "# Determine the number of unique values in each column.\n",
        "for i in application_df.columns:\n",
        "  print(i, len(application_df[i].unique()))"
      ]
    },
    {
      "cell_type": "code",
      "execution_count": 6,
      "metadata": {
        "colab": {
          "base_uri": "https://localhost:8080/"
        },
        "id": "YiWSI0f2FGky",
        "outputId": "c12682cd-e9dd-4f28-8ba8-271d93b83904"
      },
      "outputs": [
        {
          "output_type": "stream",
          "name": "stdout",
          "text": [
            "T3     27037\n",
            "T4      1542\n",
            "T6      1216\n",
            "T5      1173\n",
            "T19     1065\n",
            "T8       737\n",
            "T7       725\n",
            "T10      528\n",
            "T9       156\n",
            "T13       66\n",
            "T12       27\n",
            "T2        16\n",
            "T25        3\n",
            "T14        3\n",
            "T29        2\n",
            "T15        2\n",
            "T17        1\n",
            "Name: APPLICATION_TYPE, dtype: int64\n"
          ]
        }
      ],
      "source": [
        "# Look at APPLICATION_TYPE value counts for binning\n",
        "application_counts = application_df['APPLICATION_TYPE'].value_counts()\n",
        "print(application_counts)"
      ]
    },
    {
      "cell_type": "code",
      "execution_count": 7,
      "metadata": {
        "colab": {
          "base_uri": "https://localhost:8080/"
        },
        "id": "V_9oBSS_FGkz",
        "outputId": "89d70483-e0c8-47d4-a9af-bbff678a70f9"
      },
      "outputs": [
        {
          "output_type": "execute_result",
          "data": {
            "text/plain": [
              "T3       27037\n",
              "T4        1542\n",
              "T6        1216\n",
              "T5        1173\n",
              "T19       1065\n",
              "T8         737\n",
              "T7         725\n",
              "T10        528\n",
              "Other      276\n",
              "Name: APPLICATION_TYPE, dtype: int64"
            ]
          },
          "metadata": {},
          "execution_count": 7
        }
      ],
      "source": [
        "# Choose a cutoff value and create a list of application types to be replaced\n",
        "# use the variable name `application_types_to_replace`\n",
        "application_types_to_replace = list(application_counts[application_counts<500].index)\n",
        "application_cutoffs = 500\n",
        "# Replace in dataframe\n",
        "for app in application_types_to_replace:\n",
        "    application_df['APPLICATION_TYPE'] = application_df['APPLICATION_TYPE'].replace(app,\"Other\")\n",
        "\n",
        "# Check to make sure binning was successful\n",
        "application_df['APPLICATION_TYPE'].value_counts()"
      ]
    },
    {
      "cell_type": "code",
      "execution_count": 8,
      "metadata": {
        "colab": {
          "base_uri": "https://localhost:8080/"
        },
        "id": "RTl78MTJFGkz",
        "outputId": "87cda149-bd59-4ad5-e5f7-c6867579bfcd"
      },
      "outputs": [
        {
          "output_type": "execute_result",
          "data": {
            "text/plain": [
              "C1000    17326\n",
              "C2000     6074\n",
              "C1200     4837\n",
              "C3000     1918\n",
              "C2100     1883\n",
              "C7000      777\n",
              "C1700      287\n",
              "C4000      194\n",
              "C5000      116\n",
              "C1270      114\n",
              "C2700      104\n",
              "C2800       95\n",
              "C7100       75\n",
              "C1300       58\n",
              "C1280       50\n",
              "C1230       36\n",
              "C1400       34\n",
              "C7200       32\n",
              "C2300       32\n",
              "C1240       30\n",
              "Name: CLASSIFICATION, dtype: int64"
            ]
          },
          "metadata": {},
          "execution_count": 8
        }
      ],
      "source": [
        "# Look at CLASSIFICATION value counts for binning\n",
        "classification_counts = application_df['CLASSIFICATION'].value_counts()\n",
        "classification_counts.head(20)"
      ]
    },
    {
      "cell_type": "code",
      "execution_count": 9,
      "metadata": {
        "colab": {
          "base_uri": "https://localhost:8080/"
        },
        "id": "hpWG4o6eFGk0",
        "outputId": "43b7b741-6d32-491b-fd64-ee4f4d3d6020"
      },
      "outputs": [
        {
          "output_type": "execute_result",
          "data": {
            "text/plain": [
              "C1000    17326\n",
              "C2000     6074\n",
              "C1200     4837\n",
              "C3000     1918\n",
              "C2100     1883\n",
              "C7000      777\n",
              "C1700      287\n",
              "C4000      194\n",
              "C5000      116\n",
              "C1270      114\n",
              "C2700      104\n",
              "C2800       95\n",
              "C7100       75\n",
              "C1300       58\n",
              "C1280       50\n",
              "C1230       36\n",
              "C1400       34\n",
              "C7200       32\n",
              "C2300       32\n",
              "C1240       30\n",
              "C8000       20\n",
              "C7120       18\n",
              "C1500       16\n",
              "C1800       15\n",
              "C6000       15\n",
              "C1250       14\n",
              "C8200       11\n",
              "C1238       10\n",
              "C1278       10\n",
              "C1235        9\n",
              "C1237        9\n",
              "C7210        7\n",
              "C2400        6\n",
              "C1720        6\n",
              "C4100        6\n",
              "C1257        5\n",
              "C1600        5\n",
              "C1260        3\n",
              "C2710        3\n",
              "C0           3\n",
              "C3200        2\n",
              "C1234        2\n",
              "C1246        2\n",
              "C1267        2\n",
              "C1256        2\n",
              "Name: CLASSIFICATION, dtype: int64"
            ]
          },
          "metadata": {},
          "execution_count": 9
        }
      ],
      "source": [
        "# You may find it helpful to look at CLASSIFICATION value counts >1\n",
        "application_df['CLASSIFICATION'].value_counts().loc[lambda x: x >1]\n"
      ]
    },
    {
      "cell_type": "code",
      "execution_count": 10,
      "metadata": {
        "colab": {
          "base_uri": "https://localhost:8080/"
        },
        "id": "NhWbyvpVFGk0",
        "outputId": "30cc8283-182b-4627-a787-699db5c9287f"
      },
      "outputs": [
        {
          "output_type": "execute_result",
          "data": {
            "text/plain": [
              "C1000    17326\n",
              "C2000     6074\n",
              "C1200     4837\n",
              "Other     2261\n",
              "C3000     1918\n",
              "C2100     1883\n",
              "Name: CLASSIFICATION, dtype: int64"
            ]
          },
          "metadata": {},
          "execution_count": 10
        }
      ],
      "source": [
        "# Choose a cutoff value and create a list of classifications to be replaced\n",
        "# use the variable name `classifications_to_replace`\n",
        "#\\\n",
        "classifications_to_replace = list(classification_counts[classification_counts<1000].index)\n",
        "classification_cutoff = 1000\n",
        "for cls in classifications_to_replace:\n",
        "   application_df['CLASSIFICATION'] = application_df['CLASSIFICATION'].replace(cls,\"Other\")\n",
        "\n",
        "\n",
        "\n",
        "\n",
        "# Check to make sure binning was successful\n",
        "application_df['CLASSIFICATION'].value_counts()"
      ]
    },
    {
      "cell_type": "code",
      "execution_count": 11,
      "metadata": {
        "colab": {
          "base_uri": "https://localhost:8080/",
          "height": 317
        },
        "id": "YbfbCaI5FGk0",
        "outputId": "1788efe2-2541-44b6-fdb9-dc1e8238119e"
      },
      "outputs": [
        {
          "output_type": "execute_result",
          "data": {
            "text/plain": [
              "   STATUS  ASK_AMT  IS_SUCCESSFUL  APPLICATION_TYPE_Other  \\\n",
              "0       1     5000              1                       0   \n",
              "1       1   108590              1                       0   \n",
              "2       1     5000              0                       0   \n",
              "3       1     6692              1                       0   \n",
              "4       1   142590              1                       0   \n",
              "\n",
              "   APPLICATION_TYPE_T10  APPLICATION_TYPE_T19  APPLICATION_TYPE_T3  \\\n",
              "0                     1                     0                    0   \n",
              "1                     0                     0                    1   \n",
              "2                     0                     0                    0   \n",
              "3                     0                     0                    1   \n",
              "4                     0                     0                    1   \n",
              "\n",
              "   APPLICATION_TYPE_T4  APPLICATION_TYPE_T5  APPLICATION_TYPE_T6  ...  \\\n",
              "0                    0                    0                    0  ...   \n",
              "1                    0                    0                    0  ...   \n",
              "2                    0                    1                    0  ...   \n",
              "3                    0                    0                    0  ...   \n",
              "4                    0                    0                    0  ...   \n",
              "\n",
              "   INCOME_AMT_1-9999  INCOME_AMT_10000-24999  INCOME_AMT_100000-499999  \\\n",
              "0                  0                       0                         0   \n",
              "1                  1                       0                         0   \n",
              "2                  0                       0                         0   \n",
              "3                  0                       1                         0   \n",
              "4                  0                       0                         1   \n",
              "\n",
              "   INCOME_AMT_10M-50M  INCOME_AMT_1M-5M  INCOME_AMT_25000-99999  \\\n",
              "0                   0                 0                       0   \n",
              "1                   0                 0                       0   \n",
              "2                   0                 0                       0   \n",
              "3                   0                 0                       0   \n",
              "4                   0                 0                       0   \n",
              "\n",
              "   INCOME_AMT_50M+  INCOME_AMT_5M-10M  SPECIAL_CONSIDERATIONS_N  \\\n",
              "0                0                  0                         1   \n",
              "1                0                  0                         1   \n",
              "2                0                  0                         1   \n",
              "3                0                  0                         1   \n",
              "4                0                  0                         1   \n",
              "\n",
              "   SPECIAL_CONSIDERATIONS_Y  \n",
              "0                         0  \n",
              "1                         0  \n",
              "2                         0  \n",
              "3                         0  \n",
              "4                         0  \n",
              "\n",
              "[5 rows x 44 columns]"
            ],
            "text/html": [
              "\n",
              "  <div id=\"df-773c1a4f-4ca9-4746-ac84-eceb5b31a4f9\">\n",
              "    <div class=\"colab-df-container\">\n",
              "      <div>\n",
              "<style scoped>\n",
              "    .dataframe tbody tr th:only-of-type {\n",
              "        vertical-align: middle;\n",
              "    }\n",
              "\n",
              "    .dataframe tbody tr th {\n",
              "        vertical-align: top;\n",
              "    }\n",
              "\n",
              "    .dataframe thead th {\n",
              "        text-align: right;\n",
              "    }\n",
              "</style>\n",
              "<table border=\"1\" class=\"dataframe\">\n",
              "  <thead>\n",
              "    <tr style=\"text-align: right;\">\n",
              "      <th></th>\n",
              "      <th>STATUS</th>\n",
              "      <th>ASK_AMT</th>\n",
              "      <th>IS_SUCCESSFUL</th>\n",
              "      <th>APPLICATION_TYPE_Other</th>\n",
              "      <th>APPLICATION_TYPE_T10</th>\n",
              "      <th>APPLICATION_TYPE_T19</th>\n",
              "      <th>APPLICATION_TYPE_T3</th>\n",
              "      <th>APPLICATION_TYPE_T4</th>\n",
              "      <th>APPLICATION_TYPE_T5</th>\n",
              "      <th>APPLICATION_TYPE_T6</th>\n",
              "      <th>...</th>\n",
              "      <th>INCOME_AMT_1-9999</th>\n",
              "      <th>INCOME_AMT_10000-24999</th>\n",
              "      <th>INCOME_AMT_100000-499999</th>\n",
              "      <th>INCOME_AMT_10M-50M</th>\n",
              "      <th>INCOME_AMT_1M-5M</th>\n",
              "      <th>INCOME_AMT_25000-99999</th>\n",
              "      <th>INCOME_AMT_50M+</th>\n",
              "      <th>INCOME_AMT_5M-10M</th>\n",
              "      <th>SPECIAL_CONSIDERATIONS_N</th>\n",
              "      <th>SPECIAL_CONSIDERATIONS_Y</th>\n",
              "    </tr>\n",
              "  </thead>\n",
              "  <tbody>\n",
              "    <tr>\n",
              "      <th>0</th>\n",
              "      <td>1</td>\n",
              "      <td>5000</td>\n",
              "      <td>1</td>\n",
              "      <td>0</td>\n",
              "      <td>1</td>\n",
              "      <td>0</td>\n",
              "      <td>0</td>\n",
              "      <td>0</td>\n",
              "      <td>0</td>\n",
              "      <td>0</td>\n",
              "      <td>...</td>\n",
              "      <td>0</td>\n",
              "      <td>0</td>\n",
              "      <td>0</td>\n",
              "      <td>0</td>\n",
              "      <td>0</td>\n",
              "      <td>0</td>\n",
              "      <td>0</td>\n",
              "      <td>0</td>\n",
              "      <td>1</td>\n",
              "      <td>0</td>\n",
              "    </tr>\n",
              "    <tr>\n",
              "      <th>1</th>\n",
              "      <td>1</td>\n",
              "      <td>108590</td>\n",
              "      <td>1</td>\n",
              "      <td>0</td>\n",
              "      <td>0</td>\n",
              "      <td>0</td>\n",
              "      <td>1</td>\n",
              "      <td>0</td>\n",
              "      <td>0</td>\n",
              "      <td>0</td>\n",
              "      <td>...</td>\n",
              "      <td>1</td>\n",
              "      <td>0</td>\n",
              "      <td>0</td>\n",
              "      <td>0</td>\n",
              "      <td>0</td>\n",
              "      <td>0</td>\n",
              "      <td>0</td>\n",
              "      <td>0</td>\n",
              "      <td>1</td>\n",
              "      <td>0</td>\n",
              "    </tr>\n",
              "    <tr>\n",
              "      <th>2</th>\n",
              "      <td>1</td>\n",
              "      <td>5000</td>\n",
              "      <td>0</td>\n",
              "      <td>0</td>\n",
              "      <td>0</td>\n",
              "      <td>0</td>\n",
              "      <td>0</td>\n",
              "      <td>0</td>\n",
              "      <td>1</td>\n",
              "      <td>0</td>\n",
              "      <td>...</td>\n",
              "      <td>0</td>\n",
              "      <td>0</td>\n",
              "      <td>0</td>\n",
              "      <td>0</td>\n",
              "      <td>0</td>\n",
              "      <td>0</td>\n",
              "      <td>0</td>\n",
              "      <td>0</td>\n",
              "      <td>1</td>\n",
              "      <td>0</td>\n",
              "    </tr>\n",
              "    <tr>\n",
              "      <th>3</th>\n",
              "      <td>1</td>\n",
              "      <td>6692</td>\n",
              "      <td>1</td>\n",
              "      <td>0</td>\n",
              "      <td>0</td>\n",
              "      <td>0</td>\n",
              "      <td>1</td>\n",
              "      <td>0</td>\n",
              "      <td>0</td>\n",
              "      <td>0</td>\n",
              "      <td>...</td>\n",
              "      <td>0</td>\n",
              "      <td>1</td>\n",
              "      <td>0</td>\n",
              "      <td>0</td>\n",
              "      <td>0</td>\n",
              "      <td>0</td>\n",
              "      <td>0</td>\n",
              "      <td>0</td>\n",
              "      <td>1</td>\n",
              "      <td>0</td>\n",
              "    </tr>\n",
              "    <tr>\n",
              "      <th>4</th>\n",
              "      <td>1</td>\n",
              "      <td>142590</td>\n",
              "      <td>1</td>\n",
              "      <td>0</td>\n",
              "      <td>0</td>\n",
              "      <td>0</td>\n",
              "      <td>1</td>\n",
              "      <td>0</td>\n",
              "      <td>0</td>\n",
              "      <td>0</td>\n",
              "      <td>...</td>\n",
              "      <td>0</td>\n",
              "      <td>0</td>\n",
              "      <td>1</td>\n",
              "      <td>0</td>\n",
              "      <td>0</td>\n",
              "      <td>0</td>\n",
              "      <td>0</td>\n",
              "      <td>0</td>\n",
              "      <td>1</td>\n",
              "      <td>0</td>\n",
              "    </tr>\n",
              "  </tbody>\n",
              "</table>\n",
              "<p>5 rows × 44 columns</p>\n",
              "</div>\n",
              "      <button class=\"colab-df-convert\" onclick=\"convertToInteractive('df-773c1a4f-4ca9-4746-ac84-eceb5b31a4f9')\"\n",
              "              title=\"Convert this dataframe to an interactive table.\"\n",
              "              style=\"display:none;\">\n",
              "        \n",
              "  <svg xmlns=\"http://www.w3.org/2000/svg\" height=\"24px\"viewBox=\"0 0 24 24\"\n",
              "       width=\"24px\">\n",
              "    <path d=\"M0 0h24v24H0V0z\" fill=\"none\"/>\n",
              "    <path d=\"M18.56 5.44l.94 2.06.94-2.06 2.06-.94-2.06-.94-.94-2.06-.94 2.06-2.06.94zm-11 1L8.5 8.5l.94-2.06 2.06-.94-2.06-.94L8.5 2.5l-.94 2.06-2.06.94zm10 10l.94 2.06.94-2.06 2.06-.94-2.06-.94-.94-2.06-.94 2.06-2.06.94z\"/><path d=\"M17.41 7.96l-1.37-1.37c-.4-.4-.92-.59-1.43-.59-.52 0-1.04.2-1.43.59L10.3 9.45l-7.72 7.72c-.78.78-.78 2.05 0 2.83L4 21.41c.39.39.9.59 1.41.59.51 0 1.02-.2 1.41-.59l7.78-7.78 2.81-2.81c.8-.78.8-2.07 0-2.86zM5.41 20L4 18.59l7.72-7.72 1.47 1.35L5.41 20z\"/>\n",
              "  </svg>\n",
              "      </button>\n",
              "      \n",
              "  <style>\n",
              "    .colab-df-container {\n",
              "      display:flex;\n",
              "      flex-wrap:wrap;\n",
              "      gap: 12px;\n",
              "    }\n",
              "\n",
              "    .colab-df-convert {\n",
              "      background-color: #E8F0FE;\n",
              "      border: none;\n",
              "      border-radius: 50%;\n",
              "      cursor: pointer;\n",
              "      display: none;\n",
              "      fill: #1967D2;\n",
              "      height: 32px;\n",
              "      padding: 0 0 0 0;\n",
              "      width: 32px;\n",
              "    }\n",
              "\n",
              "    .colab-df-convert:hover {\n",
              "      background-color: #E2EBFA;\n",
              "      box-shadow: 0px 1px 2px rgba(60, 64, 67, 0.3), 0px 1px 3px 1px rgba(60, 64, 67, 0.15);\n",
              "      fill: #174EA6;\n",
              "    }\n",
              "\n",
              "    [theme=dark] .colab-df-convert {\n",
              "      background-color: #3B4455;\n",
              "      fill: #D2E3FC;\n",
              "    }\n",
              "\n",
              "    [theme=dark] .colab-df-convert:hover {\n",
              "      background-color: #434B5C;\n",
              "      box-shadow: 0px 1px 3px 1px rgba(0, 0, 0, 0.15);\n",
              "      filter: drop-shadow(0px 1px 2px rgba(0, 0, 0, 0.3));\n",
              "      fill: #FFFFFF;\n",
              "    }\n",
              "  </style>\n",
              "\n",
              "      <script>\n",
              "        const buttonEl =\n",
              "          document.querySelector('#df-773c1a4f-4ca9-4746-ac84-eceb5b31a4f9 button.colab-df-convert');\n",
              "        buttonEl.style.display =\n",
              "          google.colab.kernel.accessAllowed ? 'block' : 'none';\n",
              "\n",
              "        async function convertToInteractive(key) {\n",
              "          const element = document.querySelector('#df-773c1a4f-4ca9-4746-ac84-eceb5b31a4f9');\n",
              "          const dataTable =\n",
              "            await google.colab.kernel.invokeFunction('convertToInteractive',\n",
              "                                                     [key], {});\n",
              "          if (!dataTable) return;\n",
              "\n",
              "          const docLinkHtml = 'Like what you see? Visit the ' +\n",
              "            '<a target=\"_blank\" href=https://colab.research.google.com/notebooks/data_table.ipynb>data table notebook</a>'\n",
              "            + ' to learn more about interactive tables.';\n",
              "          element.innerHTML = '';\n",
              "          dataTable['output_type'] = 'display_data';\n",
              "          await google.colab.output.renderOutput(dataTable, element);\n",
              "          const docLink = document.createElement('div');\n",
              "          docLink.innerHTML = docLinkHtml;\n",
              "          element.appendChild(docLink);\n",
              "        }\n",
              "      </script>\n",
              "    </div>\n",
              "  </div>\n",
              "  "
            ]
          },
          "metadata": {},
          "execution_count": 11
        }
      ],
      "source": [
        "# Convert categorical data to numeric with `pd.get_dummies`\n",
        "application_dummies_df=pd.get_dummies(application_df)\n",
        "application_dummies_df.head()"
      ]
    },
    {
      "cell_type": "code",
      "execution_count": 12,
      "metadata": {
        "id": "QgJVM6TmFGk1",
        "colab": {
          "base_uri": "https://localhost:8080/"
        },
        "outputId": "8de6b155-32bf-472c-ebdc-4d387be3b734"
      },
      "outputs": [
        {
          "output_type": "execute_result",
          "data": {
            "text/plain": [
              "array([[       1,     5000,        0, ...,        0,        1,        0],\n",
              "       [       1,   108590,        0, ...,        0,        1,        0],\n",
              "       [       1,     5000,        0, ...,        0,        1,        0],\n",
              "       ...,\n",
              "       [       1,     5000,        0, ...,        0,        1,        0],\n",
              "       [       1,     5000,        0, ...,        0,        1,        0],\n",
              "       [       1, 36500179,        0, ...,        0,        1,        0]])"
            ]
          },
          "metadata": {},
          "execution_count": 12
        }
      ],
      "source": [
        "# Split our preprocessed data into our features and target arrays\n",
        "X = application_dummies_df.drop('IS_SUCCESSFUL', axis=1).values\n",
        "X\n"
      ]
    },
    {
      "cell_type": "code",
      "execution_count": 13,
      "metadata": {
        "colab": {
          "base_uri": "https://localhost:8080/"
        },
        "id": "lusgNjzm8wHj",
        "outputId": "8126167f-744c-4c8a-cf1c-661c3bd5e216"
      },
      "outputs": [
        {
          "output_type": "execute_result",
          "data": {
            "text/plain": [
              "0        1\n",
              "1        1\n",
              "2        0\n",
              "3        1\n",
              "4        1\n",
              "        ..\n",
              "34294    0\n",
              "34295    0\n",
              "34296    0\n",
              "34297    1\n",
              "34298    0\n",
              "Name: IS_SUCCESSFUL, Length: 34299, dtype: int64"
            ]
          },
          "metadata": {},
          "execution_count": 13
        }
      ],
      "source": [
        "y = application_dummies_df['IS_SUCCESSFUL']\n",
        "y"
      ]
    },
    {
      "cell_type": "code",
      "execution_count": 14,
      "metadata": {
        "id": "BKzBHd9_8wHj"
      },
      "outputs": [],
      "source": [
        "y = application_dummies_df['IS_SUCCESSFUL']\n",
        "y\n",
        "# Split the preprocessed data into a training and testing dataset\n",
        "X_train ,X_test, y_train, y_test = train_test_split(X,y, random_state = 42)"
      ]
    },
    {
      "cell_type": "code",
      "execution_count": 15,
      "metadata": {
        "id": "LQydT2pAFGk1"
      },
      "outputs": [],
      "source": [
        "# Create a StandardScaler instances\n",
        "scaler = StandardScaler()\n",
        "\n",
        "# Fit the StandardScaler\n",
        "X_scaler = scaler.fit(X_train)\n",
        "\n",
        "# Scale the data\n",
        "X_train_scaled = X_scaler.transform(X_train)\n",
        "X_test_scaled = X_scaler.transform(X_test)"
      ]
    },
    {
      "cell_type": "code",
      "execution_count": null,
      "metadata": {
        "colab": {
          "base_uri": "https://localhost:8080/"
        },
        "id": "6uBO02qvV8aH",
        "outputId": "4e60f8e9-670b-4133-d330-1b684d519b53"
      },
      "outputs": [
        {
          "output_type": "execute_result",
          "data": {
            "text/plain": [
              "(25724, 43)"
            ]
          },
          "metadata": {},
          "execution_count": 17
        }
      ],
      "source": [
        "X_train_scaled.shape\n"
      ]
    },
    {
      "cell_type": "markdown",
      "metadata": {
        "id": "50eB1KiIFGk1"
      },
      "source": [
        "## Compile, Train and Evaluate the Model"
      ]
    },
    {
      "cell_type": "code",
      "execution_count": 16,
      "metadata": {
        "colab": {
          "base_uri": "https://localhost:8080/"
        },
        "id": "Ngi7q9QSFGk1",
        "outputId": "29b91427-fd10-4b8d-c539-d9bd017dcb86"
      },
      "outputs": [
        {
          "output_type": "stream",
          "name": "stdout",
          "text": [
            "Model: \"sequential\"\n",
            "_________________________________________________________________\n",
            " Layer (type)                Output Shape              Param #   \n",
            "=================================================================\n",
            " dense (Dense)               (None, 60)                2640      \n",
            "                                                                 \n",
            " dropout (Dropout)           (None, 60)                0         \n",
            "                                                                 \n",
            " dense_1 (Dense)             (None, 30)                1830      \n",
            "                                                                 \n",
            " dropout_1 (Dropout)         (None, 30)                0         \n",
            "                                                                 \n",
            " dense_2 (Dense)             (None, 20)                620       \n",
            "                                                                 \n",
            " dropout_2 (Dropout)         (None, 20)                0         \n",
            "                                                                 \n",
            " dense_3 (Dense)             (None, 1)                 21        \n",
            "                                                                 \n",
            "=================================================================\n",
            "Total params: 5,111\n",
            "Trainable params: 5,111\n",
            "Non-trainable params: 0\n",
            "_________________________________________________________________\n"
          ]
        }
      ],
      "source": [
        "# Define the model - deep neural net, i.e., the number of input features and hidden nodes for each layer.\n",
        "input_features = X_train_scaled.shape[1]\n",
        "hidden_node1 = 60\n",
        "hidden_node2 = 30\n",
        "hidden_node3 = 20\n",
        "\n",
        "nn_model_1 = tf.keras.models.Sequential()\n",
        "\n",
        "# First hidden layer\n",
        "nn_model_1.add(tf.keras.layers.Dense(units=hidden_node1, activation='relu', input_dim=input_features))\n",
        "nn_model_1.add(tf.keras.layers.Dropout(0.2))  # Adding dropout regularization\n",
        "\n",
        "# Second hidden layer\n",
        "nn_model_1.add(tf.keras.layers.Dense(units=hidden_node2, activation='relu'))\n",
        "nn_model_1.add(tf.keras.layers.Dropout(0.2))  # Adding dropout regularization\n",
        "\n",
        "# Third hidden layer\n",
        "nn_model_1.add(tf.keras.layers.Dense(units=hidden_node3, activation='relu'))\n",
        "nn_model_1.add(tf.keras.layers.Dropout(0.2))  # Adding dropout regularization\n",
        "\n",
        "# Output layer\n",
        "nn_model_1.add(tf.keras.layers.Dense(1, activation='sigmoid'))\n",
        "\n",
        "# Check the structure of the model\n",
        "nn_model_1.summary()\n"
      ]
    },
    {
      "cell_type": "code",
      "execution_count": 17,
      "metadata": {
        "id": "IOTyhux3FGk2"
      },
      "outputs": [],
      "source": [
        "# Compile the model\n",
        "nn_model_1.compile(loss='binary_crossentropy', optimizer='adam', metrics=['accuracy'])"
      ]
    },
    {
      "cell_type": "code",
      "execution_count": 18,
      "metadata": {
        "colab": {
          "base_uri": "https://localhost:8080/"
        },
        "id": "CvxPgl2GFGk2",
        "outputId": "63ba20cc-6999-4cf8-d17c-3baf4dad69bc"
      },
      "outputs": [
        {
          "output_type": "stream",
          "name": "stderr",
          "text": [
            "WARNING:tensorflow:`period` argument is deprecated. Please use `save_freq` to specify the frequency in number of batches seen.\n"
          ]
        }
      ],
      "source": [
        "from keras.callbacks import ModelCheckpoint\n",
        "# Train the model\n",
        "\n",
        "\n",
        "checkpoint_path= 'model_weights.h5'\n",
        "checkpoint_callback = ModelCheckpoint(checkpoint_path,\n",
        "                              verbose=1,\n",
        "                              save_weight_only=True,\n",
        "                              save_freq='epoch',\n",
        "                              period=5)"
      ]
    },
    {
      "cell_type": "code",
      "execution_count": 19,
      "metadata": {
        "colab": {
          "base_uri": "https://localhost:8080/"
        },
        "id": "Qeghw-sjeKoO",
        "outputId": "8193b6a9-364b-40d2-db83-b006f8efe728"
      },
      "outputs": [
        {
          "output_type": "stream",
          "name": "stdout",
          "text": [
            "Epoch 1/50\n",
            "804/804 [==============================] - 3s 2ms/step - loss: 0.6006 - accuracy: 0.7027\n",
            "Epoch 2/50\n",
            "804/804 [==============================] - 2s 3ms/step - loss: 0.5736 - accuracy: 0.7241\n",
            "Epoch 3/50\n",
            "804/804 [==============================] - 2s 2ms/step - loss: 0.5682 - accuracy: 0.7267\n",
            "Epoch 4/50\n",
            "804/804 [==============================] - 2s 2ms/step - loss: 0.5641 - accuracy: 0.7266\n",
            "Epoch 5/50\n",
            "799/804 [============================>.] - ETA: 0s - loss: 0.5620 - accuracy: 0.7256\n",
            "Epoch 5: saving model to model_weights.h5\n",
            "804/804 [==============================] - 2s 2ms/step - loss: 0.5619 - accuracy: 0.7257\n",
            "Epoch 6/50\n",
            "804/804 [==============================] - 3s 3ms/step - loss: 0.5602 - accuracy: 0.7307\n",
            "Epoch 7/50\n",
            "804/804 [==============================] - 3s 3ms/step - loss: 0.5599 - accuracy: 0.7272\n",
            "Epoch 8/50\n",
            "804/804 [==============================] - 4s 5ms/step - loss: 0.5600 - accuracy: 0.7302\n",
            "Epoch 9/50\n",
            "804/804 [==============================] - 3s 4ms/step - loss: 0.5571 - accuracy: 0.7291\n",
            "Epoch 10/50\n",
            "797/804 [============================>.] - ETA: 0s - loss: 0.5582 - accuracy: 0.7291\n",
            "Epoch 10: saving model to model_weights.h5\n",
            "804/804 [==============================] - 4s 5ms/step - loss: 0.5579 - accuracy: 0.7292\n",
            "Epoch 11/50\n",
            "804/804 [==============================] - 4s 5ms/step - loss: 0.5580 - accuracy: 0.7286\n",
            "Epoch 12/50\n",
            "804/804 [==============================] - 3s 4ms/step - loss: 0.5542 - accuracy: 0.7310\n",
            "Epoch 13/50\n",
            "804/804 [==============================] - 2s 2ms/step - loss: 0.5560 - accuracy: 0.7300\n",
            "Epoch 14/50\n",
            "804/804 [==============================] - 2s 2ms/step - loss: 0.5555 - accuracy: 0.7314\n",
            "Epoch 15/50\n",
            "785/804 [============================>.] - ETA: 0s - loss: 0.5564 - accuracy: 0.7322\n",
            "Epoch 15: saving model to model_weights.h5\n",
            "804/804 [==============================] - 2s 2ms/step - loss: 0.5568 - accuracy: 0.7317\n",
            "Epoch 16/50\n",
            "804/804 [==============================] - 2s 2ms/step - loss: 0.5544 - accuracy: 0.7310\n",
            "Epoch 17/50\n",
            "804/804 [==============================] - 2s 2ms/step - loss: 0.5549 - accuracy: 0.7300\n",
            "Epoch 18/50\n",
            "804/804 [==============================] - 2s 3ms/step - loss: 0.5537 - accuracy: 0.7315\n",
            "Epoch 19/50\n",
            "804/804 [==============================] - 2s 2ms/step - loss: 0.5544 - accuracy: 0.7321\n",
            "Epoch 20/50\n",
            "799/804 [============================>.] - ETA: 0s - loss: 0.5530 - accuracy: 0.7328\n",
            "Epoch 20: saving model to model_weights.h5\n",
            "804/804 [==============================] - 2s 2ms/step - loss: 0.5525 - accuracy: 0.7333\n",
            "Epoch 21/50\n",
            "804/804 [==============================] - 2s 2ms/step - loss: 0.5541 - accuracy: 0.7313\n",
            "Epoch 22/50\n",
            "804/804 [==============================] - 2s 2ms/step - loss: 0.5521 - accuracy: 0.7322\n",
            "Epoch 23/50\n",
            "804/804 [==============================] - 2s 2ms/step - loss: 0.5524 - accuracy: 0.7324\n",
            "Epoch 24/50\n",
            "804/804 [==============================] - 2s 2ms/step - loss: 0.5537 - accuracy: 0.7316\n",
            "Epoch 25/50\n",
            "799/804 [============================>.] - ETA: 0s - loss: 0.5515 - accuracy: 0.7312\n",
            "Epoch 25: saving model to model_weights.h5\n",
            "804/804 [==============================] - 2s 2ms/step - loss: 0.5515 - accuracy: 0.7315\n",
            "Epoch 26/50\n",
            "804/804 [==============================] - 2s 3ms/step - loss: 0.5529 - accuracy: 0.7321\n",
            "Epoch 27/50\n",
            "804/804 [==============================] - 2s 2ms/step - loss: 0.5516 - accuracy: 0.7336\n",
            "Epoch 28/50\n",
            "804/804 [==============================] - 2s 2ms/step - loss: 0.5516 - accuracy: 0.7322\n",
            "Epoch 29/50\n",
            "804/804 [==============================] - 2s 2ms/step - loss: 0.5513 - accuracy: 0.7334\n",
            "Epoch 30/50\n",
            "802/804 [============================>.] - ETA: 0s - loss: 0.5511 - accuracy: 0.7324\n",
            "Epoch 30: saving model to model_weights.h5\n",
            "804/804 [==============================] - 2s 2ms/step - loss: 0.5510 - accuracy: 0.7325\n",
            "Epoch 31/50\n",
            "804/804 [==============================] - 2s 2ms/step - loss: 0.5522 - accuracy: 0.7315\n",
            "Epoch 32/50\n",
            "804/804 [==============================] - 2s 2ms/step - loss: 0.5520 - accuracy: 0.7315\n",
            "Epoch 33/50\n",
            "804/804 [==============================] - 2s 3ms/step - loss: 0.5510 - accuracy: 0.7323\n",
            "Epoch 34/50\n",
            "804/804 [==============================] - 2s 2ms/step - loss: 0.5500 - accuracy: 0.7334\n",
            "Epoch 35/50\n",
            "782/804 [============================>.] - ETA: 0s - loss: 0.5515 - accuracy: 0.7317\n",
            "Epoch 35: saving model to model_weights.h5\n",
            "804/804 [==============================] - 2s 2ms/step - loss: 0.5513 - accuracy: 0.7316\n",
            "Epoch 36/50\n",
            "804/804 [==============================] - 2s 3ms/step - loss: 0.5508 - accuracy: 0.7330\n",
            "Epoch 37/50\n",
            "804/804 [==============================] - 2s 3ms/step - loss: 0.5498 - accuracy: 0.7341\n",
            "Epoch 38/50\n",
            "804/804 [==============================] - 2s 2ms/step - loss: 0.5514 - accuracy: 0.7335\n",
            "Epoch 39/50\n",
            "804/804 [==============================] - 2s 2ms/step - loss: 0.5508 - accuracy: 0.7339\n",
            "Epoch 40/50\n",
            "799/804 [============================>.] - ETA: 0s - loss: 0.5488 - accuracy: 0.7333\n",
            "Epoch 40: saving model to model_weights.h5\n",
            "804/804 [==============================] - 2s 3ms/step - loss: 0.5488 - accuracy: 0.7335\n",
            "Epoch 41/50\n",
            "804/804 [==============================] - 2s 2ms/step - loss: 0.5498 - accuracy: 0.7325\n",
            "Epoch 42/50\n",
            "804/804 [==============================] - 2s 2ms/step - loss: 0.5496 - accuracy: 0.7340\n",
            "Epoch 43/50\n",
            "804/804 [==============================] - 2s 2ms/step - loss: 0.5497 - accuracy: 0.7341\n",
            "Epoch 44/50\n",
            "804/804 [==============================] - 2s 2ms/step - loss: 0.5495 - accuracy: 0.7324\n",
            "Epoch 45/50\n",
            "801/804 [============================>.] - ETA: 0s - loss: 0.5479 - accuracy: 0.7342\n",
            "Epoch 45: saving model to model_weights.h5\n",
            "804/804 [==============================] - 2s 2ms/step - loss: 0.5480 - accuracy: 0.7340\n",
            "Epoch 46/50\n",
            "804/804 [==============================] - 2s 2ms/step - loss: 0.5482 - accuracy: 0.7336\n",
            "Epoch 47/50\n",
            "804/804 [==============================] - 2s 3ms/step - loss: 0.5489 - accuracy: 0.7332\n",
            "Epoch 48/50\n",
            "804/804 [==============================] - 2s 2ms/step - loss: 0.5495 - accuracy: 0.7334\n",
            "Epoch 49/50\n",
            "804/804 [==============================] - 2s 2ms/step - loss: 0.5490 - accuracy: 0.7348\n",
            "Epoch 50/50\n",
            "786/804 [============================>.] - ETA: 0s - loss: 0.5478 - accuracy: 0.7333\n",
            "Epoch 50: saving model to model_weights.h5\n",
            "804/804 [==============================] - 2s 2ms/step - loss: 0.5481 - accuracy: 0.7330\n"
          ]
        }
      ],
      "source": [
        "# Train the model\n",
        "fit_model_1 = nn_model_1.fit(X_train_scaled, y_train, epochs=50,callbacks=[checkpoint_callback])"
      ]
    },
    {
      "cell_type": "code",
      "execution_count": 20,
      "metadata": {
        "id": "mk0s2srmFGk3",
        "outputId": "8598d871-ab8e-4d83-e20b-6e2689f8d7a6",
        "colab": {
          "base_uri": "https://localhost:8080/"
        }
      },
      "outputs": [
        {
          "output_type": "stream",
          "name": "stdout",
          "text": [
            "268/268 - 1s - loss: 0.5531 - accuracy: 0.7292 - 716ms/epoch - 3ms/step\n",
            "Loss: 0.5530910491943359, Accuracy: 0.7292128205299377\n"
          ]
        }
      ],
      "source": [
        "# Evaluate the model using the test data\n",
        "model_loss, model_accuracy = nn_model_1.evaluate(X_test_scaled,y_test,verbose=2)\n",
        "print(f\"Loss: {model_loss}, Accuracy: {model_accuracy}\")"
      ]
    },
    {
      "cell_type": "code",
      "execution_count": 21,
      "metadata": {
        "id": "zNNxUsCOflQ9",
        "colab": {
          "base_uri": "https://localhost:8080/",
          "height": 447
        },
        "outputId": "b46fbcee-c9e3-499d-a44a-f5082c763087"
      },
      "outputs": [
        {
          "output_type": "execute_result",
          "data": {
            "text/plain": [
              "<Axes: >"
            ]
          },
          "metadata": {},
          "execution_count": 21
        },
        {
          "output_type": "display_data",
          "data": {
            "text/plain": [
              "<Figure size 640x480 with 1 Axes>"
            ],
            "image/png": "[encoded data removed]"
          },
          "metadata": {}
        }
      ],
      "source": [
        "#Create a dataframe containing training history of the first  model\n",
        "history_df=pd.DataFrame(fit_model_1.history)\n",
        "#Increase index by 1 to match the number of epochs\n",
        "history_df.index +=1\n",
        "history_df.plot(y='loss')\n",
        "#plot the accuracy='accuracy')"
      ]
    },
    {
      "cell_type": "code",
      "execution_count": 22,
      "metadata": {
        "id": "vf8h8Xp5FGk3"
      },
      "outputs": [],
      "source": [
        "# Export our model\n",
        "export_path = 'nn_model_1.h5'\n",
        "nn_model_1.save('../h5_files/AlphabetSoupCharity_model_1.h5')"
      ]
    },
    {
      "cell_type": "code",
      "execution_count": 23,
      "metadata": {
        "id": "Txf8yA3mjgkp",
        "colab": {
          "base_uri": "https://localhost:8080/"
        },
        "outputId": "8da7233a-f673-4237-bb73-44f0b195e582"
      },
      "outputs": [
        {
          "output_type": "stream",
          "name": "stdout",
          "text": [
            "Model: \"sequential_1\"\n",
            "_________________________________________________________________\n",
            " Layer (type)                Output Shape              Param #   \n",
            "=================================================================\n",
            " dense_4 (Dense)             (None, 50)                2200      \n",
            "                                                                 \n",
            " dropout_3 (Dropout)         (None, 50)                0         \n",
            "                                                                 \n",
            " dense_5 (Dense)             (None, 25)                1275      \n",
            "                                                                 \n",
            " dropout_4 (Dropout)         (None, 25)                0         \n",
            "                                                                 \n",
            " dense_6 (Dense)             (None, 10)                260       \n",
            "                                                                 \n",
            " dropout_5 (Dropout)         (None, 10)                0         \n",
            "                                                                 \n",
            " dense_7 (Dense)             (None, 1)                 11        \n",
            "                                                                 \n",
            "=================================================================\n",
            "Total params: 3,746\n",
            "Trainable params: 3,746\n",
            "Non-trainable params: 0\n",
            "_________________________________________________________________\n"
          ]
        }
      ],
      "source": [
        "input_features = X_train_scaled.shape[1]\n",
        "hidden_node1 = 50\n",
        "hidden_node2 = 25\n",
        "hidden_node3 = 10\n",
        "\n",
        "nn_model_2 = tf.keras.models.Sequential()\n",
        "\n",
        "# First hidden layer\n",
        "nn_model_2.add(tf.keras.layers.Dense(units=hidden_node1, activation='relu', input_dim=input_features))\n",
        "nn_model_2.add(tf.keras.layers.Dropout(0.2))\n",
        "\n",
        "# Second hidden layer\n",
        "nn_model_2.add(tf.keras.layers.Dense(units=hidden_node2, activation='relu'))\n",
        "nn_model_2.add(tf.keras.layers.Dropout(0.2))\n",
        "\n",
        "# Third hidden layer\n",
        "nn_model_2.add(tf.keras.layers.Dense(units=hidden_node3, activation='relu'))\n",
        "nn_model_2.add(tf.keras.layers.Dropout(0.2))\n",
        "\n",
        "# Output layer\n",
        "nn_model_2.add(tf.keras.layers.Dense(1, activation='sigmoid'))\n",
        "\n",
        "# Check the structure of the model\n",
        "nn_model_2.summary()"
      ]
    },
    {
      "cell_type": "code",
      "source": [],
      "metadata": {
        "id": "3tBuyEvp2HKW"
      },
      "execution_count": null,
      "outputs": []
    },
    {
      "cell_type": "code",
      "execution_count": 24,
      "metadata": {
        "id": "7nJ3kr7DjwGI"
      },
      "outputs": [],
      "source": [
        "# Compile the  2nd model\n",
        "nn_model_2.compile(loss='binary_crossentropy', optimizer='adam', metrics=['accuracy'])"
      ]
    },
    {
      "cell_type": "code",
      "source": [],
      "metadata": {
        "id": "xBufU9_331cL"
      },
      "execution_count": null,
      "outputs": []
    },
    {
      "cell_type": "code",
      "execution_count": 25,
      "metadata": {
        "id": "G18oueKyj5iu",
        "colab": {
          "base_uri": "https://localhost:8080/"
        },
        "outputId": "0a8956f2-0e98-4120-bcc1-2a9cb1260f2d"
      },
      "outputs": [
        {
          "output_type": "stream",
          "name": "stdout",
          "text": [
            "Epoch 1/50\n",
            "804/804 [==============================] - 3s 2ms/step - loss: 0.6097 - accuracy: 0.6913\n",
            "Epoch 2/50\n",
            "804/804 [==============================] - 2s 2ms/step - loss: 0.5801 - accuracy: 0.7194\n",
            "Epoch 3/50\n",
            "804/804 [==============================] - 2s 3ms/step - loss: 0.5739 - accuracy: 0.7245\n",
            "Epoch 4/50\n",
            "804/804 [==============================] - 2s 3ms/step - loss: 0.5676 - accuracy: 0.7235\n",
            "Epoch 5/50\n",
            "794/804 [============================>.] - ETA: 0s - loss: 0.5657 - accuracy: 0.7250\n",
            "Epoch 5: saving model to model_weights.h5\n",
            "804/804 [==============================] - 2s 2ms/step - loss: 0.5660 - accuracy: 0.7250\n",
            "Epoch 6/50\n",
            "804/804 [==============================] - 2s 2ms/step - loss: 0.5641 - accuracy: 0.7271\n",
            "Epoch 7/50\n",
            "804/804 [==============================] - 2s 2ms/step - loss: 0.5629 - accuracy: 0.7268\n",
            "Epoch 8/50\n",
            "804/804 [==============================] - 2s 2ms/step - loss: 0.5621 - accuracy: 0.7273\n",
            "Epoch 9/50\n",
            "804/804 [==============================] - 2s 2ms/step - loss: 0.5606 - accuracy: 0.7261\n",
            "Epoch 10/50\n",
            "799/804 [============================>.] - ETA: 0s - loss: 0.5610 - accuracy: 0.7265\n",
            "Epoch 10: saving model to model_weights.h5\n",
            "804/804 [==============================] - 2s 2ms/step - loss: 0.5610 - accuracy: 0.7266\n",
            "Epoch 11/50\n",
            "804/804 [==============================] - 2s 3ms/step - loss: 0.5616 - accuracy: 0.7296\n",
            "Epoch 12/50\n",
            "804/804 [==============================] - 2s 2ms/step - loss: 0.5609 - accuracy: 0.7298\n",
            "Epoch 13/50\n",
            "804/804 [==============================] - 2s 2ms/step - loss: 0.5591 - accuracy: 0.7286\n",
            "Epoch 14/50\n",
            "804/804 [==============================] - 2s 2ms/step - loss: 0.5595 - accuracy: 0.7293\n",
            "Epoch 15/50\n",
            "795/804 [============================>.] - ETA: 0s - loss: 0.5566 - accuracy: 0.7307\n",
            "Epoch 15: saving model to model_weights.h5\n",
            "804/804 [==============================] - 2s 2ms/step - loss: 0.5568 - accuracy: 0.7306\n",
            "Epoch 16/50\n",
            "804/804 [==============================] - 2s 2ms/step - loss: 0.5561 - accuracy: 0.7279\n",
            "Epoch 17/50\n",
            "804/804 [==============================] - 2s 2ms/step - loss: 0.5565 - accuracy: 0.7297\n",
            "Epoch 18/50\n",
            "804/804 [==============================] - 2s 2ms/step - loss: 0.5573 - accuracy: 0.7287\n",
            "Epoch 19/50\n",
            "804/804 [==============================] - 2s 3ms/step - loss: 0.5560 - accuracy: 0.7305\n",
            "Epoch 20/50\n",
            "791/804 [============================>.] - ETA: 0s - loss: 0.5577 - accuracy: 0.7294\n",
            "Epoch 20: saving model to model_weights.h5\n",
            "804/804 [==============================] - 2s 2ms/step - loss: 0.5573 - accuracy: 0.7296\n",
            "Epoch 21/50\n",
            "804/804 [==============================] - 2s 2ms/step - loss: 0.5567 - accuracy: 0.7304\n",
            "Epoch 22/50\n",
            "804/804 [==============================] - 2s 2ms/step - loss: 0.5568 - accuracy: 0.7303\n",
            "Epoch 23/50\n",
            "804/804 [==============================] - 2s 2ms/step - loss: 0.5572 - accuracy: 0.7310\n",
            "Epoch 24/50\n",
            "804/804 [==============================] - 2s 2ms/step - loss: 0.5564 - accuracy: 0.7294\n",
            "Epoch 25/50\n",
            "799/804 [============================>.] - ETA: 0s - loss: 0.5549 - accuracy: 0.7299\n",
            "Epoch 25: saving model to model_weights.h5\n",
            "804/804 [==============================] - 2s 2ms/step - loss: 0.5548 - accuracy: 0.7300\n",
            "Epoch 26/50\n",
            "804/804 [==============================] - 2s 3ms/step - loss: 0.5553 - accuracy: 0.7314\n",
            "Epoch 27/50\n",
            "804/804 [==============================] - 2s 2ms/step - loss: 0.5540 - accuracy: 0.7314\n",
            "Epoch 28/50\n",
            "804/804 [==============================] - 2s 2ms/step - loss: 0.5541 - accuracy: 0.7309\n",
            "Epoch 29/50\n",
            "804/804 [==============================] - 2s 2ms/step - loss: 0.5559 - accuracy: 0.7322\n",
            "Epoch 30/50\n",
            "793/804 [============================>.] - ETA: 0s - loss: 0.5540 - accuracy: 0.7316\n",
            "Epoch 30: saving model to model_weights.h5\n",
            "804/804 [==============================] - 2s 2ms/step - loss: 0.5535 - accuracy: 0.7318\n",
            "Epoch 31/50\n",
            "804/804 [==============================] - 2s 2ms/step - loss: 0.5548 - accuracy: 0.7320\n",
            "Epoch 32/50\n",
            "804/804 [==============================] - 2s 2ms/step - loss: 0.5538 - accuracy: 0.7321\n",
            "Epoch 33/50\n",
            "804/804 [==============================] - 2s 3ms/step - loss: 0.5528 - accuracy: 0.7318\n",
            "Epoch 34/50\n",
            "804/804 [==============================] - 2s 2ms/step - loss: 0.5538 - accuracy: 0.7334\n",
            "Epoch 35/50\n",
            "783/804 [============================>.] - ETA: 0s - loss: 0.5517 - accuracy: 0.7307\n",
            "Epoch 35: saving model to model_weights.h5\n",
            "804/804 [==============================] - 2s 2ms/step - loss: 0.5519 - accuracy: 0.7309\n",
            "Epoch 36/50\n",
            "804/804 [==============================] - 2s 2ms/step - loss: 0.5544 - accuracy: 0.7325\n",
            "Epoch 37/50\n",
            "804/804 [==============================] - 2s 2ms/step - loss: 0.5533 - accuracy: 0.7333\n",
            "Epoch 38/50\n",
            "804/804 [==============================] - 2s 2ms/step - loss: 0.5522 - accuracy: 0.7315\n",
            "Epoch 39/50\n",
            "804/804 [==============================] - 2s 2ms/step - loss: 0.5543 - accuracy: 0.7319\n",
            "Epoch 40/50\n",
            "784/804 [============================>.] - ETA: 0s - loss: 0.5515 - accuracy: 0.7319\n",
            "Epoch 40: saving model to model_weights.h5\n",
            "804/804 [==============================] - 2s 3ms/step - loss: 0.5515 - accuracy: 0.7319\n",
            "Epoch 41/50\n",
            "804/804 [==============================] - 2s 3ms/step - loss: 0.5519 - accuracy: 0.7329\n",
            "Epoch 42/50\n",
            "804/804 [==============================] - 2s 2ms/step - loss: 0.5535 - accuracy: 0.7327\n",
            "Epoch 43/50\n",
            "804/804 [==============================] - 2s 2ms/step - loss: 0.5540 - accuracy: 0.7327\n",
            "Epoch 44/50\n",
            "804/804 [==============================] - 3s 3ms/step - loss: 0.5524 - accuracy: 0.7323\n",
            "Epoch 45/50\n",
            "783/804 [============================>.] - ETA: 0s - loss: 0.5506 - accuracy: 0.7332\n",
            "Epoch 45: saving model to model_weights.h5\n",
            "804/804 [==============================] - 2s 2ms/step - loss: 0.5509 - accuracy: 0.7329\n",
            "Epoch 46/50\n",
            "804/804 [==============================] - 2s 3ms/step - loss: 0.5527 - accuracy: 0.7321\n",
            "Epoch 47/50\n",
            "804/804 [==============================] - 2s 3ms/step - loss: 0.5525 - accuracy: 0.7325\n",
            "Epoch 48/50\n",
            "804/804 [==============================] - 2s 2ms/step - loss: 0.5531 - accuracy: 0.7316\n",
            "Epoch 49/50\n",
            "804/804 [==============================] - 2s 2ms/step - loss: 0.5522 - accuracy: 0.7327\n",
            "Epoch 50/50\n",
            "799/804 [============================>.] - ETA: 0s - loss: 0.5512 - accuracy: 0.7338\n",
            "Epoch 50: saving model to model_weights.h5\n",
            "804/804 [==============================] - 2s 2ms/step - loss: 0.5514 - accuracy: 0.7338\n"
          ]
        }
      ],
      "source": [
        "# Train the 2nd model\n",
        "fit_model_2 = nn_model_2.fit(X_train_scaled, y_train, epochs=50,callbacks=[checkpoint_callback])"
      ]
    },
    {
      "cell_type": "code",
      "source": [
        "# Define the model - deep neural net\n",
        "input_features = X_train_scaled.shape[1]\n",
        "hidden_node1 = 20\n",
        "hidden_node2 = 10\n",
        "hidden_node3 = 5\n",
        "\n",
        "nn_model_3 = tf.keras.models.Sequential()\n",
        "\n",
        "# First hidden layer\n",
        "nn_model_3.add(tf.keras.layers.Dense(units=hidden_node1, activation='relu', input_dim=input_features))\n",
        "nn_model_3.add(tf.keras.layers.Dropout(0.2))\n",
        "\n",
        "# Second hidden layer\n",
        "nn_model_3.add(tf.keras.layers.Dense(units=hidden_node2, activation='relu'))\n",
        "nn_model_3.add(tf.keras.layers.Dropout(0.2))\n",
        "\n",
        "# Third hidden layer\n",
        "nn_model_3.add(tf.keras.layers.Dense(units=hidden_node3, activation='relu'))\n",
        "nn_model_3.add(tf.keras.layers.Dropout(0.2))\n",
        "\n",
        "# Output layer\n",
        "nn_model_3.add(tf.keras.layers.Dense(1, activation='sigmoid'))\n",
        "\n",
        "# Check the structure of the model\n",
        "nn_model_3.summary()\n"
      ],
      "metadata": {
        "id": "JFG9dwuP32eX",
        "colab": {
          "base_uri": "https://localhost:8080/"
        },
        "outputId": "475f140e-d9ad-496a-9b8d-d74bd431539f"
      },
      "execution_count": 26,
      "outputs": [
        {
          "output_type": "stream",
          "name": "stdout",
          "text": [
            "Model: \"sequential_2\"\n",
            "_________________________________________________________________\n",
            " Layer (type)                Output Shape              Param #   \n",
            "=================================================================\n",
            " dense_8 (Dense)             (None, 20)                880       \n",
            "                                                                 \n",
            " dropout_6 (Dropout)         (None, 20)                0         \n",
            "                                                                 \n",
            " dense_9 (Dense)             (None, 10)                210       \n",
            "                                                                 \n",
            " dropout_7 (Dropout)         (None, 10)                0         \n",
            "                                                                 \n",
            " dense_10 (Dense)            (None, 5)                 55        \n",
            "                                                                 \n",
            " dropout_8 (Dropout)         (None, 5)                 0         \n",
            "                                                                 \n",
            " dense_11 (Dense)            (None, 1)                 6         \n",
            "                                                                 \n",
            "=================================================================\n",
            "Total params: 1,151\n",
            "Trainable params: 1,151\n",
            "Non-trainable params: 0\n",
            "_________________________________________________________________\n"
          ]
        }
      ]
    },
    {
      "cell_type": "code",
      "execution_count": 28,
      "metadata": {
        "id": "dZvvlcQ2kEw5",
        "colab": {
          "base_uri": "https://localhost:8080/"
        },
        "outputId": "f8ac4b2f-4845-4de2-dcc5-c7aff1df7977"
      },
      "outputs": [
        {
          "output_type": "stream",
          "name": "stdout",
          "text": [
            "268/268 - 0s - loss: 0.5532 - accuracy: 0.7294 - 336ms/epoch - 1ms/step\n",
            "Loss: 0.5532190203666687, Accuracy: 0.7294460535049438\n"
          ]
        }
      ],
      "source": [
        "# Evaluate the 2nd model using the test data\n",
        "model_loss, model_accuracy = nn_model_2.evaluate(X_test_scaled,y_test,verbose=2)\n",
        "print(f'Loss: {model_loss}, Accuracy: {model_accuracy}')"
      ]
    },
    {
      "cell_type": "code",
      "execution_count": 29,
      "metadata": {
        "id": "SoYKCT_LkJxh",
        "colab": {
          "base_uri": "https://localhost:8080/",
          "height": 860
        },
        "outputId": "66480b6e-9be9-4c01-f519-2d6feb7ecfbf"
      },
      "outputs": [
        {
          "output_type": "execute_result",
          "data": {
            "text/plain": [
              "<Axes: >"
            ]
          },
          "metadata": {},
          "execution_count": 29
        },
        {
          "output_type": "display_data",
          "data": {
            "text/plain": [
              "<Figure size 640x480 with 1 Axes>"
            ],
            "image/png": "[encoded data removed]"
          },
          "metadata": {}
        },
        {
          "output_type": "display_data",
          "data": {
            "text/plain": [
              "<Figure size 640x480 with 1 Axes>"
            ],
            "image/png": "[encoded data removed]"
          },
          "metadata": {}
        }
      ],
      "source": [
        "# Create a DataFrame containing training history of the 2nd model\n",
        "history_df = pd.DataFrame(fit_model_2.history)\n",
        "\n",
        "# Increase the index by 1 to match the number of epochs\n",
        "history_df.index += 1\n",
        "\n",
        "# Plot the loss\n",
        "history_df.plot(y='loss')\n",
        "\n",
        "# Plot the accuracy\n",
        "history_df.plot(y='accuracy')"
      ]
    },
    {
      "cell_type": "code",
      "execution_count": 31,
      "metadata": {
        "id": "q7E-YYS4kSKL"
      },
      "outputs": [],
      "source": [
        "# Export our model\n",
        "export_path = 'nn_model_2.h5'\n",
        "nn_model_2.save('../h5_files/AlphabetSoupCharity_omptimization2.h5')"
      ]
    },
    {
      "cell_type": "code",
      "source": [
        "import tensorflow as tf\n",
        "\n",
        "input_features = X_train_scaled.shape[1]\n",
        "hidden_node1 = 20\n",
        "hidden_node2 = 15\n",
        "hidden_node3 = 10\n",
        "\n",
        "nn_model_3 = tf.keras.models.Sequential()\n",
        "\n",
        "# First hidden layer\n",
        "nn_model_3.add(tf.keras.layers.Dense(units=hidden_node1, activation='relu', input_dim=input_features))\n",
        "nn_model_3.add(tf.keras.layers.Dropout(0.3))\n",
        "\n",
        "# Second hidden layer\n",
        "nn_model_3.add(tf.keras.layers.Dense(units=hidden_node2, activation='relu'))\n",
        "nn_model_3.add(tf.keras.layers.Dropout(0.3))\n",
        "\n",
        "# Third hidden layer\n",
        "nn_model_3.add(tf.keras.layers.Dense(units=hidden_node3, activation='relu'))\n",
        "nn_model_3.add(tf.keras.layers.Dropout(0.3))\n",
        "\n",
        "# Output layer\n",
        "nn_model_3.add(tf.keras.layers.Dense(1, activation='sigmoid'))\n",
        "\n",
        "# Compile the model\n",
        "nn_model_3.compile(loss='binary_crossentropy', optimizer='adam', metrics=['accuracy'])\n",
        "\n",
        "# Train the model\n",
        "history_df = nn_model_3.fit(X_train_scaled, y_train, epochs=50, batch_size=32, validation_data=(X_train_scaled, y_train))\n",
        "\n",
        "# Evaluate the model\n",
        "test_loss, test_accuracy = nn_model_3.evaluate(X_test_scaled, y_test)\n",
        "\n",
        "print(\"Test Loss:\", test_loss)\n",
        "print(\"Test Accuracy:\", test_accuracy)\n",
        "\n"
      ],
      "metadata": {
        "colab": {
          "base_uri": "https://localhost:8080/"
        },
        "id": "oRRe24aL2IjC",
        "outputId": "aeed23b6-a868-447c-992c-f344feafccf1"
      },
      "execution_count": 52,
      "outputs": [
        {
          "output_type": "stream",
          "name": "stdout",
          "text": [
            "Epoch 1/50\n",
            "804/804 [==============================] - 5s 5ms/step - loss: 0.6475 - accuracy: 0.6533 - val_loss: 0.5898 - val_accuracy: 0.7225\n",
            "Epoch 2/50\n",
            "804/804 [==============================] - 3s 4ms/step - loss: 0.6067 - accuracy: 0.6990 - val_loss: 0.5725 - val_accuracy: 0.7281\n",
            "Epoch 3/50\n",
            "804/804 [==============================] - 3s 3ms/step - loss: 0.5938 - accuracy: 0.7036 - val_loss: 0.5732 - val_accuracy: 0.7274\n",
            "Epoch 4/50\n",
            "804/804 [==============================] - 3s 4ms/step - loss: 0.5873 - accuracy: 0.7091 - val_loss: 0.5637 - val_accuracy: 0.7287\n",
            "Epoch 5/50\n",
            "804/804 [==============================] - 3s 4ms/step - loss: 0.5849 - accuracy: 0.7154 - val_loss: 0.5664 - val_accuracy: 0.7289\n",
            "Epoch 6/50\n",
            "804/804 [==============================] - 2s 3ms/step - loss: 0.5849 - accuracy: 0.7135 - val_loss: 0.5662 - val_accuracy: 0.7288\n",
            "Epoch 7/50\n",
            "804/804 [==============================] - 3s 4ms/step - loss: 0.5809 - accuracy: 0.7149 - val_loss: 0.5641 - val_accuracy: 0.7322\n",
            "Epoch 8/50\n",
            "804/804 [==============================] - 2s 3ms/step - loss: 0.5828 - accuracy: 0.7153 - val_loss: 0.5607 - val_accuracy: 0.7313\n",
            "Epoch 9/50\n",
            "804/804 [==============================] - 5s 6ms/step - loss: 0.5766 - accuracy: 0.7186 - val_loss: 0.5553 - val_accuracy: 0.7318\n",
            "Epoch 10/50\n",
            "804/804 [==============================] - 3s 4ms/step - loss: 0.5777 - accuracy: 0.7185 - val_loss: 0.5597 - val_accuracy: 0.7314\n",
            "Epoch 11/50\n",
            "804/804 [==============================] - 3s 3ms/step - loss: 0.5762 - accuracy: 0.7212 - val_loss: 0.5554 - val_accuracy: 0.7321\n",
            "Epoch 12/50\n",
            "804/804 [==============================] - 3s 3ms/step - loss: 0.5737 - accuracy: 0.7200 - val_loss: 0.5565 - val_accuracy: 0.7327\n",
            "Epoch 13/50\n",
            "804/804 [==============================] - 4s 5ms/step - loss: 0.5744 - accuracy: 0.7206 - val_loss: 0.5579 - val_accuracy: 0.7316\n",
            "Epoch 14/50\n",
            "804/804 [==============================] - 2s 3ms/step - loss: 0.5732 - accuracy: 0.7212 - val_loss: 0.5534 - val_accuracy: 0.7314\n",
            "Epoch 15/50\n",
            "804/804 [==============================] - 3s 4ms/step - loss: 0.5756 - accuracy: 0.7178 - val_loss: 0.5547 - val_accuracy: 0.7325\n",
            "Epoch 16/50\n",
            "804/804 [==============================] - 3s 4ms/step - loss: 0.5735 - accuracy: 0.7225 - val_loss: 0.5520 - val_accuracy: 0.7323\n",
            "Epoch 17/50\n",
            "804/804 [==============================] - 4s 5ms/step - loss: 0.5734 - accuracy: 0.7208 - val_loss: 0.5529 - val_accuracy: 0.7343\n",
            "Epoch 18/50\n",
            "804/804 [==============================] - 2s 3ms/step - loss: 0.5707 - accuracy: 0.7245 - val_loss: 0.5556 - val_accuracy: 0.7325\n",
            "Epoch 19/50\n",
            "804/804 [==============================] - 2s 3ms/step - loss: 0.5742 - accuracy: 0.7214 - val_loss: 0.5572 - val_accuracy: 0.7330\n",
            "Epoch 20/50\n",
            "804/804 [==============================] - 2s 3ms/step - loss: 0.5722 - accuracy: 0.7230 - val_loss: 0.5551 - val_accuracy: 0.7317\n",
            "Epoch 21/50\n",
            "804/804 [==============================] - 4s 5ms/step - loss: 0.5722 - accuracy: 0.7212 - val_loss: 0.5524 - val_accuracy: 0.7320\n",
            "Epoch 22/50\n",
            "804/804 [==============================] - 2s 3ms/step - loss: 0.5700 - accuracy: 0.7231 - val_loss: 0.5521 - val_accuracy: 0.7317\n",
            "Epoch 23/50\n",
            "804/804 [==============================] - 3s 4ms/step - loss: 0.5698 - accuracy: 0.7228 - val_loss: 0.5513 - val_accuracy: 0.7325\n",
            "Epoch 24/50\n",
            "804/804 [==============================] - 2s 3ms/step - loss: 0.5711 - accuracy: 0.7229 - val_loss: 0.5535 - val_accuracy: 0.7324\n",
            "Epoch 25/50\n",
            "804/804 [==============================] - 3s 4ms/step - loss: 0.5696 - accuracy: 0.7272 - val_loss: 0.5541 - val_accuracy: 0.7319\n",
            "Epoch 26/50\n",
            "804/804 [==============================] - 3s 4ms/step - loss: 0.5713 - accuracy: 0.7259 - val_loss: 0.5537 - val_accuracy: 0.7338\n",
            "Epoch 27/50\n",
            "804/804 [==============================] - 3s 4ms/step - loss: 0.5710 - accuracy: 0.7253 - val_loss: 0.5537 - val_accuracy: 0.7324\n",
            "Epoch 28/50\n",
            "804/804 [==============================] - 3s 4ms/step - loss: 0.5707 - accuracy: 0.7243 - val_loss: 0.5558 - val_accuracy: 0.7330\n",
            "Epoch 29/50\n",
            "804/804 [==============================] - 3s 4ms/step - loss: 0.5703 - accuracy: 0.7246 - val_loss: 0.5519 - val_accuracy: 0.7324\n",
            "Epoch 30/50\n",
            "804/804 [==============================] - 4s 4ms/step - loss: 0.5681 - accuracy: 0.7279 - val_loss: 0.5509 - val_accuracy: 0.7321\n",
            "Epoch 31/50\n",
            "804/804 [==============================] - 3s 3ms/step - loss: 0.5694 - accuracy: 0.7254 - val_loss: 0.5500 - val_accuracy: 0.7339\n",
            "Epoch 32/50\n",
            "804/804 [==============================] - 3s 4ms/step - loss: 0.5699 - accuracy: 0.7272 - val_loss: 0.5513 - val_accuracy: 0.7322\n",
            "Epoch 33/50\n",
            "804/804 [==============================] - 3s 4ms/step - loss: 0.5686 - accuracy: 0.7249 - val_loss: 0.5521 - val_accuracy: 0.7324\n",
            "Epoch 34/50\n",
            "804/804 [==============================] - 4s 5ms/step - loss: 0.5695 - accuracy: 0.7275 - val_loss: 0.5494 - val_accuracy: 0.7329\n",
            "Epoch 35/50\n",
            "804/804 [==============================] - 3s 4ms/step - loss: 0.5672 - accuracy: 0.7248 - val_loss: 0.5518 - val_accuracy: 0.7336\n",
            "Epoch 36/50\n",
            "804/804 [==============================] - 3s 4ms/step - loss: 0.5678 - accuracy: 0.7258 - val_loss: 0.5497 - val_accuracy: 0.7341\n",
            "Epoch 37/50\n",
            "804/804 [==============================] - 3s 4ms/step - loss: 0.5676 - accuracy: 0.7276 - val_loss: 0.5515 - val_accuracy: 0.7320\n",
            "Epoch 38/50\n",
            "804/804 [==============================] - 7s 8ms/step - loss: 0.5669 - accuracy: 0.7256 - val_loss: 0.5495 - val_accuracy: 0.7336\n",
            "Epoch 39/50\n",
            "804/804 [==============================] - 2s 3ms/step - loss: 0.5670 - accuracy: 0.7246 - val_loss: 0.5502 - val_accuracy: 0.7304\n",
            "Epoch 40/50\n",
            "804/804 [==============================] - 3s 4ms/step - loss: 0.5654 - accuracy: 0.7287 - val_loss: 0.5513 - val_accuracy: 0.7340\n",
            "Epoch 41/50\n",
            "804/804 [==============================] - 3s 3ms/step - loss: 0.5665 - accuracy: 0.7275 - val_loss: 0.5482 - val_accuracy: 0.7331\n",
            "Epoch 42/50\n",
            "804/804 [==============================] - 3s 4ms/step - loss: 0.5681 - accuracy: 0.7274 - val_loss: 0.5487 - val_accuracy: 0.7341\n",
            "Epoch 43/50\n",
            "804/804 [==============================] - 3s 3ms/step - loss: 0.5664 - accuracy: 0.7261 - val_loss: 0.5507 - val_accuracy: 0.7322\n",
            "Epoch 44/50\n",
            "804/804 [==============================] - 3s 3ms/step - loss: 0.5659 - accuracy: 0.7283 - val_loss: 0.5475 - val_accuracy: 0.7334\n",
            "Epoch 45/50\n",
            "804/804 [==============================] - 3s 3ms/step - loss: 0.5659 - accuracy: 0.7280 - val_loss: 0.5485 - val_accuracy: 0.7327\n",
            "Epoch 46/50\n",
            "804/804 [==============================] - 3s 3ms/step - loss: 0.5684 - accuracy: 0.7284 - val_loss: 0.5491 - val_accuracy: 0.7322\n",
            "Epoch 47/50\n",
            "804/804 [==============================] - 4s 4ms/step - loss: 0.5670 - accuracy: 0.7257 - val_loss: 0.5469 - val_accuracy: 0.7313\n",
            "Epoch 48/50\n",
            "804/804 [==============================] - 3s 4ms/step - loss: 0.5666 - accuracy: 0.7264 - val_loss: 0.5483 - val_accuracy: 0.7325\n",
            "Epoch 49/50\n",
            "804/804 [==============================] - 3s 3ms/step - loss: 0.5682 - accuracy: 0.7274 - val_loss: 0.5480 - val_accuracy: 0.7325\n",
            "Epoch 50/50\n",
            "804/804 [==============================] - 3s 4ms/step - loss: 0.5650 - accuracy: 0.7259 - val_loss: 0.5474 - val_accuracy: 0.7332\n",
            "268/268 [==============================] - 0s 2ms/step - loss: 0.5533 - accuracy: 0.7297\n",
            "Test Loss: 0.553325355052948\n",
            "Test Accuracy: 0.72967928647995\n"
          ]
        }
      ]
    },
    {
      "cell_type": "code",
      "source": [
        "# Compile the model\n",
        "nn_model_3.compile(loss='binary_crossentropy', optimizer='adam', metrics=['accuracy'])"
      ],
      "metadata": {
        "id": "TK8FoAGM4ZYr"
      },
      "execution_count": 53,
      "outputs": []
    },
    {
      "cell_type": "code",
      "source": [
        "# Evaluate the 3rdmodel using the test data\n",
        "model_loss, model_accuracy = nn_model_3.evaluate(X_test_scaled,y_test,verbose=2)\n",
        "print(f'Loss: {model_loss}, Accuracy: {model_accuracy}')"
      ],
      "metadata": {
        "colab": {
          "base_uri": "https://localhost:8080/"
        },
        "id": "glZXa-Cz4G6G",
        "outputId": "cb79b725-778b-468c-9f32-55f1b177a79f"
      },
      "execution_count": 54,
      "outputs": [
        {
          "output_type": "stream",
          "name": "stdout",
          "text": [
            "268/268 - 1s - loss: 0.5533 - accuracy: 0.7297 - 532ms/epoch - 2ms/step\n",
            "Loss: 0.553325355052948, Accuracy: 0.72967928647995\n"
          ]
        }
      ]
    }
  ],
  "metadata": {
    "colab": {
      "provenance": [],
      "include_colab_link": true
    },
    "kernelspec": {
      "display_name": "Python 3",
      "language": "python",
      "name": "python3"
    },
    "language_info": {
      "codemirror_mode": {
        "name": "ipython",
        "version": 3
      },
      "file_extension": ".py",
      "mimetype": "text/x-python",
      "name": "python",
      "nbconvert_exporter": "python",
      "pygments_lexer": "ipython3",
      "version": "3.11.3"
    },
    "vscode": {
      "interpreter": {
        "hash": "31f2aee4e71d21fbe5cf8b01ff0e069b9275f58929596ceb00d14d90e3e16cd6"
      }
    }
  },
  "nbformat": 4,
  "nbformat_minor": 0
}